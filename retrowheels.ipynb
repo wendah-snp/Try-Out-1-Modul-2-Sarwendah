{
 "metadata": {
  "language_info": {
   "codemirror_mode": {
    "name": "ipython",
    "version": 3
   },
   "file_extension": ".py",
   "mimetype": "text/x-python",
   "name": "python",
   "nbconvert_exporter": "python",
   "pygments_lexer": "ipython3",
   "version": "3.9.4"
  },
  "orig_nbformat": 2,
  "kernelspec": {
   "name": "python394jvsc74a57bd0b9621b127d0b2990a4b17d2662b551a90b69c6a966ee859cff1d84ecd67d1517",
   "display_name": "Python 3.9.4 64-bit"
  },
  "metadata": {
   "interpreter": {
    "hash": "b9621b127d0b2990a4b17d2662b551a90b69c6a966ee859cff1d84ecd67d1517"
   }
  }
 },
 "nbformat": 4,
 "nbformat_minor": 2,
 "cells": [
  {
   "cell_type": "code",
   "execution_count": 1,
   "metadata": {},
   "outputs": [],
   "source": [
    "import mysql.connector\n",
    "import pandas as pd"
   ]
  },
  {
   "cell_type": "code",
   "execution_count": 2,
   "metadata": {},
   "outputs": [],
   "source": [
    "mydb = mysql.connector.connect(\n",
    "    host = 'localhost',\n",
    "    user = 'root',\n",
    "    passwd = 'root',\n",
    "    database = 'retrowheels'\n",
    ")"
   ]
  },
  {
   "cell_type": "code",
   "execution_count": 3,
   "metadata": {},
   "outputs": [],
   "source": [
    "mycursor = mydb.cursor()\n",
    "def sql_df(yourQuery):\n",
    "    mycursor.execute(yourQuery)\n",
    "    myresult = mycursor.fetchall()\n",
    "    df = pd.DataFrame(myresult, columns=mycursor.column_names)\n",
    "    return df"
   ]
  },
  {
   "cell_type": "code",
   "execution_count": 5,
   "metadata": {},
   "outputs": [
    {
     "output_type": "execute_result",
     "data": {
      "text/plain": [
       "   customer  city  countries\n",
       "0       122    95         27"
      ],
      "text/html": "<div>\n<style scoped>\n    .dataframe tbody tr th:only-of-type {\n        vertical-align: middle;\n    }\n\n    .dataframe tbody tr th {\n        vertical-align: top;\n    }\n\n    .dataframe thead th {\n        text-align: right;\n    }\n</style>\n<table border=\"1\" class=\"dataframe\">\n  <thead>\n    <tr style=\"text-align: right;\">\n      <th></th>\n      <th>customer</th>\n      <th>city</th>\n      <th>countries</th>\n    </tr>\n  </thead>\n  <tbody>\n    <tr>\n      <th>0</th>\n      <td>122</td>\n      <td>95</td>\n      <td>27</td>\n    </tr>\n  </tbody>\n</table>\n</div>"
     },
     "metadata": {},
     "execution_count": 5
    }
   ],
   "source": [
    "sql_df(\n",
    "    'select count(distinct customername) as customer,count(distinct city) as city,count(distinct country) as countries from customers;'\n",
    ")"
   ]
  },
  {
   "cell_type": "code",
   "execution_count": 7,
   "metadata": {},
   "outputs": [
    {
     "output_type": "execute_result",
     "data": {
      "text/plain": [
       "   EMPLOYEES  OFFICE  COUNTRY  PRODUCTS STOCKPRODUCT  VENDORS\n",
       "0         23       7        5       110       555131       13"
      ],
      "text/html": "<div>\n<style scoped>\n    .dataframe tbody tr th:only-of-type {\n        vertical-align: middle;\n    }\n\n    .dataframe tbody tr th {\n        vertical-align: top;\n    }\n\n    .dataframe thead th {\n        text-align: right;\n    }\n</style>\n<table border=\"1\" class=\"dataframe\">\n  <thead>\n    <tr style=\"text-align: right;\">\n      <th></th>\n      <th>EMPLOYEES</th>\n      <th>OFFICE</th>\n      <th>COUNTRY</th>\n      <th>PRODUCTS</th>\n      <th>STOCKPRODUCT</th>\n      <th>VENDORS</th>\n    </tr>\n  </thead>\n  <tbody>\n    <tr>\n      <th>0</th>\n      <td>23</td>\n      <td>7</td>\n      <td>5</td>\n      <td>110</td>\n      <td>555131</td>\n      <td>13</td>\n    </tr>\n  </tbody>\n</table>\n</div>"
     },
     "metadata": {},
     "execution_count": 7
    }
   ],
   "source": [
    "sql_df(\n",
    "    'SELECT (SELECT COUNT(EMPLOYEENUMBER) FROM EMPLOYEES) AS EMPLOYEES, (SELECT COUNT(OFFICECODE) FROM OFFICES) AS OFFICE, (SELECT COUNT(DISTINCT COUNTRY) FROM OFFICES) AS COUNTRY, (SELECT COUNT(DISTINCT PRODUCTNAME) FROM PRODUCTS) AS PRODUCTS, (SELECT SUM(QUANTITYINSTOCK) FROM PRODUCTS) AS STOCKPRODUCT, (SELECT COUNT(DISTINCT PRODUCTVENDOR) FROM PRODUCTS) AS VENDORS;'\n",
    ")"
   ]
  },
  {
   "cell_type": "code",
   "execution_count": 8,
   "metadata": {},
   "outputs": [
    {
     "output_type": "execute_result",
     "data": {
      "text/plain": [
       "        PRODUCTLINE MINPRICE MAXPRICE\n",
       "0      Classic Cars    15.91   103.42\n",
       "1       Motorcycles    24.14    91.02\n",
       "2            Planes    29.34    77.27\n",
       "3             Ships    33.30    82.34\n",
       "4            Trains    26.72    67.56\n",
       "5  Trucks and Buses    24.92    84.76\n",
       "6      Vintage Cars    20.61    86.70"
      ],
      "text/html": "<div>\n<style scoped>\n    .dataframe tbody tr th:only-of-type {\n        vertical-align: middle;\n    }\n\n    .dataframe tbody tr th {\n        vertical-align: top;\n    }\n\n    .dataframe thead th {\n        text-align: right;\n    }\n</style>\n<table border=\"1\" class=\"dataframe\">\n  <thead>\n    <tr style=\"text-align: right;\">\n      <th></th>\n      <th>PRODUCTLINE</th>\n      <th>MINPRICE</th>\n      <th>MAXPRICE</th>\n    </tr>\n  </thead>\n  <tbody>\n    <tr>\n      <th>0</th>\n      <td>Classic Cars</td>\n      <td>15.91</td>\n      <td>103.42</td>\n    </tr>\n    <tr>\n      <th>1</th>\n      <td>Motorcycles</td>\n      <td>24.14</td>\n      <td>91.02</td>\n    </tr>\n    <tr>\n      <th>2</th>\n      <td>Planes</td>\n      <td>29.34</td>\n      <td>77.27</td>\n    </tr>\n    <tr>\n      <th>3</th>\n      <td>Ships</td>\n      <td>33.30</td>\n      <td>82.34</td>\n    </tr>\n    <tr>\n      <th>4</th>\n      <td>Trains</td>\n      <td>26.72</td>\n      <td>67.56</td>\n    </tr>\n    <tr>\n      <th>5</th>\n      <td>Trucks and Buses</td>\n      <td>24.92</td>\n      <td>84.76</td>\n    </tr>\n    <tr>\n      <th>6</th>\n      <td>Vintage Cars</td>\n      <td>20.61</td>\n      <td>86.70</td>\n    </tr>\n  </tbody>\n</table>\n</div>"
     },
     "metadata": {},
     "execution_count": 8
    }
   ],
   "source": [
    "sql_df(\n",
    "    'SELECT DISTINCT PRODUCTLINE, MIN(BUYPRICE) AS MINPRICE, MAX(BUYPRICE) AS MAXPRICE FROM PRODUCTS GROUP BY PRODUCTLINE;'\n",
    ")"
   ]
  },
  {
   "cell_type": "code",
   "execution_count": 9,
   "metadata": {},
   "outputs": [
    {
     "output_type": "execute_result",
     "data": {
      "text/plain": [
       "                   CUSTOMERNAME           CITY      COUNTRY      TOTAL\n",
       "0        Euro+ Shopping Channel         Madrid        Spain  715738.98\n",
       "1  Mini Gifts Distributors Ltd.     San Rafael          USA  584188.24\n",
       "2    Australian Collectors, Co.      Melbourne    Australia  180585.07\n",
       "3            Muscle Machine Inc            NYC          USA  177913.95\n",
       "4       Dragon Souveniers, Ltd.      Singapore    Singapore  156251.03\n",
       "5    Down Under Souveniers, Inc     Auckland    New Zealand  154622.08\n",
       "6                AV Stores, Co.     Manchester           UK  148410.09\n",
       "7       Anna's Decorations, Ltd   North Sydney    Australia  137034.22\n",
       "8      Corporate Gift Ideas Co.  San Francisco          USA  132340.78\n",
       "9        Saveley & Henriot, Co.           Lyon       France  130305.35"
      ],
      "text/html": "<div>\n<style scoped>\n    .dataframe tbody tr th:only-of-type {\n        vertical-align: middle;\n    }\n\n    .dataframe tbody tr th {\n        vertical-align: top;\n    }\n\n    .dataframe thead th {\n        text-align: right;\n    }\n</style>\n<table border=\"1\" class=\"dataframe\">\n  <thead>\n    <tr style=\"text-align: right;\">\n      <th></th>\n      <th>CUSTOMERNAME</th>\n      <th>CITY</th>\n      <th>COUNTRY</th>\n      <th>TOTAL</th>\n    </tr>\n  </thead>\n  <tbody>\n    <tr>\n      <th>0</th>\n      <td>Euro+ Shopping Channel</td>\n      <td>Madrid</td>\n      <td>Spain</td>\n      <td>715738.98</td>\n    </tr>\n    <tr>\n      <th>1</th>\n      <td>Mini Gifts Distributors Ltd.</td>\n      <td>San Rafael</td>\n      <td>USA</td>\n      <td>584188.24</td>\n    </tr>\n    <tr>\n      <th>2</th>\n      <td>Australian Collectors, Co.</td>\n      <td>Melbourne</td>\n      <td>Australia</td>\n      <td>180585.07</td>\n    </tr>\n    <tr>\n      <th>3</th>\n      <td>Muscle Machine Inc</td>\n      <td>NYC</td>\n      <td>USA</td>\n      <td>177913.95</td>\n    </tr>\n    <tr>\n      <th>4</th>\n      <td>Dragon Souveniers, Ltd.</td>\n      <td>Singapore</td>\n      <td>Singapore</td>\n      <td>156251.03</td>\n    </tr>\n    <tr>\n      <th>5</th>\n      <td>Down Under Souveniers, Inc</td>\n      <td>Auckland</td>\n      <td>New Zealand</td>\n      <td>154622.08</td>\n    </tr>\n    <tr>\n      <th>6</th>\n      <td>AV Stores, Co.</td>\n      <td>Manchester</td>\n      <td>UK</td>\n      <td>148410.09</td>\n    </tr>\n    <tr>\n      <th>7</th>\n      <td>Anna's Decorations, Ltd</td>\n      <td>North Sydney</td>\n      <td>Australia</td>\n      <td>137034.22</td>\n    </tr>\n    <tr>\n      <th>8</th>\n      <td>Corporate Gift Ideas Co.</td>\n      <td>San Francisco</td>\n      <td>USA</td>\n      <td>132340.78</td>\n    </tr>\n    <tr>\n      <th>9</th>\n      <td>Saveley &amp; Henriot, Co.</td>\n      <td>Lyon</td>\n      <td>France</td>\n      <td>130305.35</td>\n    </tr>\n  </tbody>\n</table>\n</div>"
     },
     "metadata": {},
     "execution_count": 9
    }
   ],
   "source": [
    "sql_df(\n",
    "    'SELECT CUSTOMERNAME, CITY, COUNTRY, SUM(AMOUNT) AS TOTAL FROM CUSTOMERS, PAYMENTS WHERE CUSTOMERS.CUSTOMERNUMBER = PAYMENTS.CUSTOMERNUMBER GROUP BY CUSTOMERS.CUSTOMERNUMBER ORDER BY TOTAL DESC LIMIT 10;'\n",
    ")"
   ]
  },
  {
   "cell_type": "code",
   "execution_count": null,
   "metadata": {},
   "outputs": [],
   "source": []
  }
 ]
}